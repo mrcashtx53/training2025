{
 "cells": [
  {
   "cell_type": "markdown",
   "id": "06a5a4e5",
   "metadata": {},
   "source": [
    "# Python Dictionary Practice\n",
    "\n",
    "Welcome — these are short, hands-on exercises to practice Python dictionaries. For each numbered exercise, write code in the following code cell to complete the task. Try to solve the exercises yourself before looking at the solutions (solutions are provided at the end of the notebook).\n",
    "\n",
    "Tips:\n",
    "- Use dictionary literals `{}` and methods like `.get()`, `.items()`, `.keys()`, `.values()`.\n",
    "- Use dictionary comprehensions for compact transformations.\n",
    "- Keep your answers in the code cells below each prompt.\n",
    "\n",
    "Ready? Start at Exercise 1."
   ]
  },
  {
   "cell_type": "code",
   "execution_count": null,
   "id": "dcdb5d67",
   "metadata": {},
   "outputs": [],
   "source": [
    "# Exercise 1 (easy)\n",
    "# Create a dictionary named `person` with keys: 'name' (string), 'age' (int), and 'city' (string).\n",
    "# Then print the person's age.\n",
    "\n",
    "# TODO: person = {'name': 'Alice', 'age': 30, 'city': 'New York'}\n",
    "print\n",
    "\n",
    "pass"
   ]
  },
  {
   "cell_type": "code",
   "execution_count": null,
   "id": "3b89330d",
   "metadata": {},
   "outputs": [],
   "source": [
    "# Exercise 2 (easy)\n",
    "# Given the `person` dictionary from Exercise 1, add a new key 'email' with a sample address\n",
    "# and update 'age' to be 1 year older. Print the updated dictionary.\n",
    "\n",
    "# TODO: your code here\n",
    "\n",
    "pass"
   ]
  },
  {
   "cell_type": "code",
   "execution_count": null,
   "id": "cea5e198",
   "metadata": {},
   "outputs": [],
   "source": [
    "# Exercise 3 (iteration)\n",
    "# Given a dictionary `fruit_counts = {'apple': 3, 'banana': 5, 'orange': 2}`\n",
    "# iterate over items and print lines like: 'apple -> 3'\n",
    "\n",
    "# TODO: your code here\n",
    "\n",
    "pass"
   ]
  },
  {
   "cell_type": "code",
   "execution_count": null,
   "id": "efee3d49",
   "metadata": {},
   "outputs": [],
   "source": [
    "# Exercise 4 (construction)\n",
    "# Convert a list of (key, value) tuples into a dictionary using a built-in function.\n",
    "# Example: items = [('a', 1), ('b', 2), ('c', 3)]\n",
    "# Create the dictionary and print it.\n",
    "\n",
    "# TODO: your code here\n",
    "\n",
    "pass"
   ]
  },
  {
   "cell_type": "code",
   "execution_count": null,
   "id": "a3076983",
   "metadata": {},
   "outputs": [],
   "source": [
    "# Exercise 5 (nested)\n",
    "# Create a nested dictionary `classes` that maps course names to a dictionary with 'teacher' and 'students' count.\n",
    "# Example: classes = {'math': {'teacher':'A', 'students':20}, ...}\n",
    "# Then print the teacher for one of the courses.\n",
    "\n",
    "# TODO: your code here\n",
    "\n",
    "pass"
   ]
  },
  {
   "cell_type": "code",
   "execution_count": null,
   "id": "fe64fc50",
   "metadata": {},
   "outputs": [],
   "source": [
    "# Exercise 6 (safe access)\n",
    "# Given a dictionary `data = {'x': 10, 'y': 20}`, try to read 'z' using `.get()` with a default of 0.\n",
    "# Print the result.\n",
    "\n",
    "# TODO: your code here\n",
    "\n",
    "pass"
   ]
  },
  {
   "cell_type": "code",
   "execution_count": null,
   "id": "142fbbeb",
   "metadata": {},
   "outputs": [],
   "source": [
    "# Exercise 7 (merge)\n",
    "# Merge two dictionaries `a = {'k1': 1, 'k2': 2}` and `b = {'k2': 20, 'k3': 3}`\n",
    "# so that values from `b` overwrite `a` when keys collide. Print the merged dictionary.\n",
    "\n",
    "# TODO: your code here\n",
    "\n",
    "pass"
   ]
  },
  {
   "cell_type": "code",
   "execution_count": null,
   "id": "ea26e2e7",
   "metadata": {},
   "outputs": [],
   "source": [
    "# Exercise 8 (counting)\n",
    "# Given a list of words: words = ['apple', 'banana', 'apple', 'orange', 'banana', 'apple']\n",
    "# Use a dictionary to count how many times each word appears, then print the counts.\n",
    "\n",
    "# TODO: your code here\n",
    "\n",
    "pass"
   ]
  },
  {
   "cell_type": "code",
   "execution_count": null,
   "id": "f21ef001",
   "metadata": {},
   "outputs": [],
   "source": [
    "# Quick pass/fail tests for the exercises\n",
    "# Run this cell after you've filled in the exercise cells.\n",
    "results = []\n",
    "# Exercise 1\n",
    "try:\n",
    "    ok = isinstance(person, dict) and all(k in person for k in ('name','age','city')) and isinstance(person['age'], int)\n",
    "    results.append(('Exercise 1', ok))\n",
    "except Exception:\n",
    "    results.append(('Exercise 1', False))\n",
    "# Exercise 2\n",
    "try:\n",
    "    ok = 'email' in person and isinstance(person.get('age'), int)\n",
    "    results.append(('Exercise 2', ok))\n",
    "except Exception:\n",
    "    results.append(('Exercise 2', False))\n",
    "# Exercise 3\n",
    "try:\n",
    "    ok = isinstance(fruit_counts, dict) and fruit_counts.get('apple')==3 and fruit_counts.get('banana')==5 and fruit_counts.get('orange')==2\n",
    "    results.append(('Exercise 3', ok))\n",
    "except Exception:\n",
    "    results.append(('Exercise 3', False))\n",
    "# Exercise 4\n",
    "try:\n",
    "    ok = isinstance(d_from_items, dict) and d_from_items==dict([('a',1),('b',2),('c',3)])\n",
    "    results.append(('Exercise 4', ok))\n",
    "except Exception:\n",
    "    results.append(('Exercise 4', False))\n",
    "# Exercise 5\n",
    "try:\n",
    "    ok = isinstance(classes, dict) and 'math' in classes and 'teacher' in classes['math']\n",
    "    results.append(('Exercise 5', ok))\n",
    "except Exception:\n",
    "    results.append(('Exercise 5', False))\n",
    "# Exercise 6\n",
    "try:\n",
    "    ok = data.get('z',0)==0\n",
    "    results.append(('Exercise 6', ok))\n",
    "except Exception:\n",
    "    results.append(('Exercise 6', False))\n",
    "# Exercise 7\n",
    "try:\n",
    "    ok = merged=={'k1':1,'k2':20,'k3':3}\n",
    "    results.append(('Exercise 7', ok))\n",
    "except Exception:\n",
    "    results.append(('Exercise 7', False))\n",
    "# Exercise 8\n",
    "try:\n",
    "    ok = counts=={'apple':3,'banana':2,'orange':1}\n",
    "    results.append(('Exercise 8', ok))\n",
    "except Exception:\n",
    "    results.append(('Exercise 8', False))\n",
    "\n",
    "for name, ok in results:\n",
    "    print(f\"{name}: {'PASS' if ok else 'FAIL'}\")"
   ]
  },
  {
   "cell_type": "markdown",
   "id": "2f158459",
   "metadata": {},
   "source": [
    "----\n",
    "## Solutions (scroll only after trying the exercises!)\n",
    "The cell below contains one possible solution for each exercise. There are many valid ways to solve these."
   ]
  },
  {
   "cell_type": "code",
   "execution_count": null,
   "id": "2c905ad1",
   "metadata": {},
   "outputs": [],
   "source": [
    "# Solutions\n",
    "print('--- Exercise 1 ---')\n",
    "person = {'name': 'Alex', 'age': 30, 'city': 'Austin'}\n",
    "print(person['age'])  # 30\n",
    "\n",
    "print('\\n--- Exercise 2 ---')\n",
    "person['email'] = 'alex@example.com'\n",
    "person['age'] += 1\n",
    "print(person)\n",
    "\n",
    "print('\\n--- Exercise 3 ---')\n",
    "fruit_counts = {'apple': 3, 'banana': 5, 'orange': 2}\n",
    "for k, v in fruit_counts.items():\n",
    "    print(f\"{k} -> {v}\")\n",
    "\n",
    "print('\\n--- Exercise 4 ---')\n",
    "items = [('a', 1), ('b', 2), ('c', 3)]\n",
    "d_from_items = dict(items)\n",
    "print(d_from_items)\n",
    "\n",
    "print('\\n--- Exercise 5 ---')\n",
    "classes = {\n",
    "    'math': {'teacher': 'Ms. Lee', 'students': 20},\n",
    "    'history': {'teacher': 'Mr. Kim', 'students': 18}\n",
    "}\n",
    "print(classes['math']['teacher'])  # 'Ms. Lee'\n",
    "\n",
    "print('\\n--- Exercise 6 ---')\n",
    "data = {'x': 10, 'y': 20}\n",
    "z_val = data.get('z', 0)\n",
    "print(z_val)  # 0 (default)\n",
    "\n",
    "print('\\n--- Exercise 7 ---')\n",
    "a = {'k1': 1, 'k2': 2}\n",
    "b = {'k2': 20, 'k3': 3}\n",
    "merged = {**a, **b}  # values from b overwrite a\n",
    "print(merged)  # {'k1':1, 'k2':20, 'k3':3}\n",
    "\n",
    "print('\\n--- Exercise 8 ---')\n",
    "words = ['apple', 'banana', 'apple', 'orange', 'banana', 'apple']\n",
    "counts = {}\n",
    "for w in words:\n",
    "    counts[w] = counts.get(w, 0) + 1\n",
    "print(counts)  # {'apple': 3, 'banana': 2, 'orange': 1}"
   ]
  }
 ],
 "metadata": {
  "language_info": {
   "name": "python"
  }
 },
 "nbformat": 4,
 "nbformat_minor": 5
}
